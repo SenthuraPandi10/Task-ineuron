{
 "cells": [
  {
   "cell_type": "raw",
   "id": "0a1b2916",
   "metadata": {},
   "source": [
    "1 . Try to extract data from index one to index 300 with a jump of 3 \n",
    "2. Try to reverse a string without using reverse function \n",
    "3. Try to split a string after conversion of entire string in uppercase \n",
    "4. try to convert the whole string into lower case \n",
    "5 . Try to capitalize the whole string \n",
    "6 . Write a diference between isalnum() and isalpha()\n",
    "7. Try to give an example of expand tab\n",
    "8 . Give an example of strip , lstrip and rstrip \n",
    "9.  Replace a string charecter by another charector by taking your own example \n",
    "\"sudhanshu\"\n",
    "10 . Try  to give a defination of string center function with and exmple \n",
    "11 . Write your own definition of compiler and interpretor without copy paste form internet in your own language\n",
    "12 . Python is a interpreted of compiled language give a clear ans with your understanding \n",
    "13 . Try to write a usecase of python with your understanding ."
   ]
  },
  {
   "cell_type": "code",
   "execution_count": 8,
   "id": "15715887",
   "metadata": {},
   "outputs": [],
   "source": [
    "s = \"this is My First Python programming class and i am learNING python string and its function\""
   ]
  },
  {
   "cell_type": "code",
   "execution_count": 9,
   "id": "9331b933",
   "metadata": {},
   "outputs": [
    {
     "data": {
      "text/plain": [
       "'tssyityopgmncsa alrNph rgni ni'"
      ]
     },
     "execution_count": 9,
     "metadata": {},
     "output_type": "execute_result"
    }
   ],
   "source": [
    "#1\n",
    "s[0:300:3]"
   ]
  },
  {
   "cell_type": "code",
   "execution_count": 10,
   "id": "e21e8bbc",
   "metadata": {},
   "outputs": [
    {
     "data": {
      "text/plain": [
       "'noitcnuf sti dna gnirts nohtyp GNINrael ma i dna ssalc gnimmargorp nohtyP tsriF yM si siht'"
      ]
     },
     "execution_count": 10,
     "metadata": {},
     "output_type": "execute_result"
    }
   ],
   "source": [
    "#2\n",
    "s[::-1]"
   ]
  },
  {
   "cell_type": "code",
   "execution_count": 16,
   "id": "1f596ee4",
   "metadata": {},
   "outputs": [
    {
     "name": "stdout",
     "output_type": "stream",
     "text": [
      "THIS IS MY FIRST PYTHON PROGRAMMING CLASS AND I AM LEARNING PYTHON STRING AND ITS FUNCTION\n"
     ]
    }
   ],
   "source": [
    "#3\n",
    "l = s.upper()\n",
    "print(l)"
   ]
  },
  {
   "cell_type": "code",
   "execution_count": 18,
   "id": "898b161a",
   "metadata": {},
   "outputs": [
    {
     "name": "stdout",
     "output_type": "stream",
     "text": [
      "['THIS', 'IS', 'MY', 'FIRST', 'PYTHON', 'PROGRAMMING', 'CLASS', 'AND', 'I', 'AM', 'LEARNING', 'PYTHON', 'STRING', 'AND', 'ITS', 'FUNCTION']\n"
     ]
    }
   ],
   "source": [
    "split_string = l.split()\n",
    "print(split_string)"
   ]
  },
  {
   "cell_type": "code",
   "execution_count": 20,
   "id": "47130e77",
   "metadata": {},
   "outputs": [
    {
     "name": "stdout",
     "output_type": "stream",
     "text": [
      "this is my first python programming class and i am learning python string and its function\n"
     ]
    }
   ],
   "source": [
    "#4\n",
    "lower_string = s.lower()\n",
    "print(lower_string)"
   ]
  },
  {
   "cell_type": "code",
   "execution_count": 21,
   "id": "2a9d1da3",
   "metadata": {},
   "outputs": [
    {
     "name": "stdout",
     "output_type": "stream",
     "text": [
      "This is my first python programming class and i am learning python string and its function\n"
     ]
    }
   ],
   "source": [
    "#5\n",
    "capital_string = s.capitalize()\n",
    "print(capital_string)"
   ]
  },
  {
   "cell_type": "code",
   "execution_count": 41,
   "id": "6e125ebb",
   "metadata": {},
   "outputs": [
    {
     "name": "stdout",
     "output_type": "stream",
     "text": [
      "True\n",
      "True\n"
     ]
    }
   ],
   "source": [
    "#6\n",
    "n = 'senthurapandi'\n",
    "print(n.isalpha())\n",
    "print(n.isalnum())\n",
    "#diff between isalpha and isnum\n",
    "#isalpha is going to return true if the string is alphabetic and isalnum is going to retunr true if the string is numeric+alphabetic"
   ]
  },
  {
   "cell_type": "code",
   "execution_count": 88,
   "id": "a31af2f1",
   "metadata": {},
   "outputs": [
    {
     "data": {
      "text/plain": [
       "'senthurapandi   is      a       good    boy.'"
      ]
     },
     "execution_count": 88,
     "metadata": {},
     "output_type": "execute_result"
    }
   ],
   "source": [
    "#7\n",
    "m = 'senthurapandi\\tis\\ta\\tgood\\tboy.'\n",
    "m.expandtabs()#basically it removes tab space"
   ]
  },
  {
   "cell_type": "code",
   "execution_count": 92,
   "id": "f802cb4f",
   "metadata": {},
   "outputs": [],
   "source": [
    "#8\n",
    "s = '   senthurapandi is a good boy              '\n",
    "r = '                       senthura pandi is a boy                '\n",
    "p = '        senthura pandi is a boy       '"
   ]
  },
  {
   "cell_type": "code",
   "execution_count": 93,
   "id": "043253db",
   "metadata": {},
   "outputs": [
    {
     "name": "stdout",
     "output_type": "stream",
     "text": [
      "senthura pandi is a boy\n",
      "senthurapandi is a good boy              \n",
      "                       senthura pandi is a boy\n"
     ]
    }
   ],
   "source": [
    "print(p.strip())\n",
    "print(s.lstrip())\n",
    "print(r.rstrip())"
   ]
  },
  {
   "cell_type": "code",
   "execution_count": 94,
   "id": "dd97529b",
   "metadata": {},
   "outputs": [
    {
     "data": {
      "text/plain": [
       "'pandi is a good teacher'"
      ]
     },
     "execution_count": 94,
     "metadata": {},
     "output_type": "execute_result"
    }
   ],
   "source": [
    "#9 \n",
    "s = 'sudhansu is a good teacher'\n",
    "s.replace('sudhansu','pandi')"
   ]
  },
  {
   "cell_type": "code",
   "execution_count": 74,
   "id": "96a7edac",
   "metadata": {},
   "outputs": [
    {
     "data": {
      "text/plain": [
       "'<<<<<<senthura<<<<<<'"
      ]
     },
     "execution_count": 74,
     "metadata": {},
     "output_type": "execute_result"
    }
   ],
   "source": [
    "#10\n",
    "d = 'senthura'\n",
    "d.center(20,'<')"
   ]
  },
  {
   "cell_type": "code",
   "execution_count": 95,
   "id": "ab53736a",
   "metadata": {},
   "outputs": [],
   "source": [
    "#11 . Write your own definition of compiler and interpretor without copy paste form internet in your own language\n",
    "#we can call compiler as a translator between human and machine which translates any programming into machine code or bytecode in some other format\n",
    "#interpretor dont translate in some other format.it directly executes the instruction written in the program"
   ]
  },
  {
   "cell_type": "code",
   "execution_count": null,
   "id": "561f9e91",
   "metadata": {},
   "outputs": [],
   "source": [
    "#12\n",
    "#In general it is belived that Python is a interpreter language but in reality neigther it is a compiler language nor a interpreted language.\n",
    "#It works in two layer first the .py file is compliled to an intermediate code of .pyc then the .pyc file is directly interpreted as for final output."
   ]
  },
  {
   "cell_type": "markdown",
   "id": "9ee0e310",
   "metadata": {},
   "source": [
    "#13\n",
    "commonly used for \n",
    "1.web development\n",
    "2.games and 3d graphics\n",
    "3.business application\n",
    "4.software development\n",
    "5.network programming\n",
    "6.Database access"
   ]
  },
  {
   "cell_type": "code",
   "execution_count": null,
   "id": "7033c7aa",
   "metadata": {},
   "outputs": [],
   "source": []
  }
 ],
 "metadata": {
  "kernelspec": {
   "display_name": "Python 3",
   "language": "python",
   "name": "python3"
  },
  "language_info": {
   "codemirror_mode": {
    "name": "ipython",
    "version": 3
   },
   "file_extension": ".py",
   "mimetype": "text/x-python",
   "name": "python",
   "nbconvert_exporter": "python",
   "pygments_lexer": "ipython3",
   "version": "3.8.8"
  }
 },
 "nbformat": 4,
 "nbformat_minor": 5
}
